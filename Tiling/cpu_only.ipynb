{
 "cells": [
  {
   "cell_type": "code",
   "execution_count": null,
   "id": "fbdd83b8-13a1-4b1d-a25b-9753edadf1b2",
   "metadata": {
    "scrolled": true
   },
   "outputs": [],
   "source": [
    "!pip install numpy pandas tqdm joblib pillow"
   ]
  },
  {
   "cell_type": "code",
   "execution_count": null,
   "id": "4d9b661c-ee13-443c-845b-9950bc0c1659",
   "metadata": {
    "scrolled": true
   },
   "outputs": [],
   "source": [
    "!apt-get install libvips-dev -y --no-install-recommends --download-only -o dir::cache='./'\n",
    "\n",
    "!mkdir ./libvips\n",
    "!mv ./archives/* ./libvips\n",
    "!rm -rf ./archives\n",
    "!ls ./libvips\n",
    "\n",
    "!yes | dpkg -i ./libvips/*.deb\n",
    "\n",
    "!pip install pyvips\n",
    "!pip wheel pyvips\n",
    "!mkdir pyvips\n",
    "!mv *.whl ./pyvips"
   ]
  },
  {
   "cell_type": "code",
   "execution_count": null,
   "id": "a2f6cece-e2ee-44a6-a0d5-7f4e17119174",
   "metadata": {},
   "outputs": [],
   "source": [
    "import numpy as np # linear algebra\n",
    "import pandas as pd # data processing, CSV file I/O (e.g. pd.read_csv)\n",
    "import os\n",
    "import pyvips\n",
    "import numpy as np\n",
    "from PIL import Image\n",
    "import random\n",
    "import glob\n",
    "import multiprocessing as mproc\n",
    "from tqdm.auto import tqdm\n",
    "from joblib import Parallel, delayed\n",
    "import gc, time"
   ]
  },
  {
   "cell_type": "code",
   "execution_count": null,
   "id": "ff91fa31-0052-4b0c-9c32-0f9375ea5a2b",
   "metadata": {},
   "outputs": [],
   "source": [
    "DATASET_IMAGES = \"/home/input/test\"\n",
    "os.environ['VIPS_DISC_THRESHOLD'] = '9gb' #use disk caching instead of memory when the image exceeds 9GB\n",
    "\n",
    "# Input data files are available in the read-only \"../input/\" directory\n",
    "# For example, running this (by clicking run or pressing Shift+Enter) will list all files under the input directory\n",
    "\n",
    "ls = sorted(glob.glob(os.path.join(DATASET_IMAGES, '*.png')))\n",
    "print(f\"found images: {len(ls)}\")\n",
    "\n",
    "for dirname, _, filenames in os.walk(DATASET_IMAGES):\n",
    "    for filename in filenames:\n",
    "        print(os.path.join(dirname, filename))"
   ]
  },
  {
   "cell_type": "code",
   "execution_count": null,
   "id": "01b5ebaa-70c7-4900-943f-f49015ad532f",
   "metadata": {},
   "outputs": [],
   "source": [
    "def extract_tiles(raw_dir, dest_dir, size: int = 512, scale: float = 2, drop_thr: float = 0.7) -> list:\n",
    "    name, _ = os.path.splitext(os.path.basename(raw_dir)) #get image name\n",
    "    im = pyvips.Image.new_from_file(raw_dir) #load image\n",
    "    w = h = size\n",
    "    # https://stackoverflow.com/a/47581978/4521646\n",
    "    idxs = [(y, y + h, x, x + w) for y in range(0, im.height, h) for x in range(0, im.width, w)]\n",
    "    files = []\n",
    "    for k, (y, y_, x, x_) in enumerate(idxs):\n",
    "        tile = im.crop(x, y, min(w, im.width - x), min(h, im.height - y)).numpy()[..., :3]\n",
    "        \n",
    "        # increase tile size to (h,w) for edge tiles\n",
    "        if tile.shape[:2] != (h, w):\n",
    "            tile_ = tile\n",
    "            tile_size = (h, w) if tile.ndim == 2 else (h, w, tile.shape[2])\n",
    "            tile = np.zeros(tile_size, dtype=tile.dtype)\n",
    "            tile[:tile_.shape[0], :tile_.shape[1], ...] = tile_\n",
    "        \n",
    "        # skip the tile of which empty ratio exceeds drop_thr\n",
    "        mask_bg = np.sum(tile, axis=2) == 0\n",
    "        tile[mask_bg, :] = 255\n",
    "        mask_bg = np.mean(tile, axis=2) > 250\n",
    "        if np.sum(mask_bg) >= (np.prod(mask_bg.shape) * drop_thr):\n",
    "            #print(f\"skip almost empty tile: {k:06}_{int(x_ / w)}-{int(y_ / h)}\")\n",
    "            continue\n",
    "        \n",
    "        p_img = os.path.join(dest_dir, f\"{name}_{k:06}_{int(x_ / w)}-{int(y_ / h)}.png\")\n",
    "        # print(tile.shape, tile.dtype, tile.min(), tile.max())\n",
    "        new_size = int(size * scale), int(size * scale)\n",
    "        Image.fromarray(tile).resize(new_size, Image.LANCZOS).save(p_img)\n",
    "        files.append(p_img)\n",
    "    return files, idxs\n",
    "\n",
    "def prune_tiles(files: list, max_samples: float = 1.0):\n",
    "    max_samples = max_samples if isinstance(max_samples, int) else int(len(files) * max_samples)\n",
    "    random.shuffle(files)\n",
    "    for file_path in files[max_samples:]:\n",
    "        os.remove(file_path)\n",
    "\n",
    "def extract_prune_tiles(\n",
    "    idx_path_img, dest_dir: str = \"/home/output\", \n",
    "    size: int = 512, scale: float = 2.0, drop_thr: float = 0.7, max_samples: float = None\n",
    "):\n",
    "    idx, raw_dir = idx_path_img\n",
    "    print(f\"processing #{idx}: {raw_dir}\")\n",
    "    name, _ = os.path.splitext(os.path.basename(raw_dir))\n",
    "    dest_dir = os.path.join(dest_dir, name)\n",
    "    os.makedirs(dest_dir, exist_ok=True)\n",
    "    tiles, _ = extract_tiles(raw_dir, dest_dir, size, scale, drop_thr)\n",
    "    if max_samples:\n",
    "        prune_tiles(tiles, max_samples)\n",
    "    gc.collect()\n",
    "    time.sleep(1)"
   ]
  },
  {
   "cell_type": "code",
   "execution_count": null,
   "id": "e24ea3d7-983e-47ca-af56-543d96233bdc",
   "metadata": {},
   "outputs": [],
   "source": [
    "# process the train_images folder\n",
    "ls = sorted(glob.glob(os.path.join(DATASET_IMAGES, '*.png')))\n",
    "print(f\"found images: {len(ls)}\")\n",
    "\n",
    "ls=ls[270:] #segment tasks into smaller chunk\n",
    "\n",
    "# this mothed uses an unordered queue, doesn't keep processing order\n",
    "pool = mproc.Pool(3)\n",
    "tqdm_bar = tqdm(total=len(ls))\n",
    "for _ in pool.imap_unordered(extract_prune_tiles, enumerate(ls)):\n",
    "    tqdm_bar.update()\n",
    "pool.close()\n",
    "pool.join()"
   ]
  }
 ],
 "metadata": {
  "kernelspec": {
   "display_name": "Python 3 (ipykernel)",
   "language": "python",
   "name": "python3"
  },
  "language_info": {
   "codemirror_mode": {
    "name": "ipython",
    "version": 3
   },
   "file_extension": ".py",
   "mimetype": "text/x-python",
   "name": "python",
   "nbconvert_exporter": "python",
   "pygments_lexer": "ipython3",
   "version": "3.12.5"
  }
 },
 "nbformat": 4,
 "nbformat_minor": 5
}
