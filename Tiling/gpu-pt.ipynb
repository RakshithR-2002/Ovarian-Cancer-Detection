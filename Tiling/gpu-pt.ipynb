{
 "cells": [
  {
   "cell_type": "code",
   "execution_count": null,
   "id": "fbb01978-7624-467a-945e-0e239b487784",
   "metadata": {},
   "outputs": [],
   "source": [
    "!apt-get install libvips-dev -y --no-install-recommends --download-only -o dir::cache='./'\n",
    "\n",
    "!mkdir ./libvips\n",
    "!mv ./archives/* ./libvips\n",
    "!rm -rf ./archives\n",
    "!ls ./libvips\n",
    "\n",
    "!yes | dpkg -i ./libvips/*.deb\n",
    "\n",
    "!pip install pyvips\n",
    "!pip wheel pyvips\n",
    "!mkdir pyvips\n",
    "!mv *.whl ./pyvips"
   ]
  },
  {
   "cell_type": "code",
   "execution_count": null,
   "id": "6339f2b9-367d-4775-a67f-53f539e113de",
   "metadata": {},
   "outputs": [],
   "source": [
    "!pip install numpy pandas tqdm joblib pillow scikit-image GPUtil"
   ]
  },
  {
   "cell_type": "code",
   "execution_count": 1,
   "id": "6b041fca-5207-4778-ba33-23d4a3050a3c",
   "metadata": {},
   "outputs": [
    {
     "name": "stdout",
     "output_type": "stream",
     "text": [
      "Using device: cuda\n",
      "Pyvips ENV Values: \n",
      " VIPS_DISC_THRESHOLD: 9gb \n",
      " VIPS_ACCESS: sequential \n",
      " VIPS_LIMIT_MEMORY: 16384 \n",
      " VIPS_CACHE_SIZE: 8192 \n",
      " VIPS_CONCURRENCY: 6\n",
      "\n",
      " found images: 3\n"
     ]
    }
   ],
   "source": [
    "import os\n",
    "import glob\n",
    "import multiprocessing as mp\n",
    "from tqdm import tqdm\n",
    "from worker_utils import extract_prune_tiles # Import worker functions\n",
    "from worker_utils import get_available_gpu_memory\n",
    "\n",
    "DATASET_IMAGES = \"/home/input\"\n",
    "\n",
    "os.environ['VIPS_DISC_THRESHOLD'] = '9gb'  # Use disk caching for large images\n",
    "os.environ['VIPS_ACCESS'] = 'sequential'\n",
    "os.environ['VIPS_LIMIT_MEMORY'] = '16384'  # 16GB memory limit\n",
    "os.environ['VIPS_CACHE_SIZE'] = '8192'  # 6GB cache size\n",
    "os.environ['VIPS_CONCURRENCY'] = '6'  # 6 threads\n",
    "\n",
    "print(f\"Pyvips ENV Values: \\n VIPS_DISC_THRESHOLD: {os.environ['VIPS_DISC_THRESHOLD']} \\n VIPS_ACCESS: {os.environ['VIPS_ACCESS']} \\n VIPS_LIMIT_MEMORY: {os.environ['VIPS_LIMIT_MEMORY']} \\n VIPS_CACHE_SIZE: {os.environ['VIPS_CACHE_SIZE']} \\n VIPS_CONCURRENCY: {os.environ['VIPS_CONCURRENCY']}\") \n",
    "# Get the list of image paths\n",
    "ls = sorted(glob.glob(os.path.join(DATASET_IMAGES, '*.png')))\n",
    "print(f\"\\n found images: {len(ls)}\")"
   ]
  },
  {
   "cell_type": "code",
   "execution_count": null,
   "id": "828fdff4-1287-46f4-87ba-83fce74f2647",
   "metadata": {},
   "outputs": [
    {
     "name": "stderr",
     "output_type": "stream",
     "text": [
      "Overall Progress:   0%|                                                                           | 0/3 [00:00<?, ?it/s]"
     ]
    },
    {
     "name": "stdout",
     "output_type": "stream",
     "text": [
      "Available GPU memory: 15240.00 MB, Using 5 processes\n"
     ]
    }
   ],
   "source": [
    "def main():\n",
    "    # Get image paths\n",
    "    ls = sorted(glob.glob(os.path.join(DATASET_IMAGES, '*.png')))\n",
    "\n",
    "    memory_per_process = 3000  # MB\n",
    "\n",
    "    with tqdm(total=len(ls), desc=\"Overall Progress\") as pbar:\n",
    "        while ls:\n",
    "            available_memory = get_available_gpu_memory()\n",
    "            num_processes = max(1, int(available_memory // memory_per_process))\n",
    "            print(f\"Available GPU memory: {available_memory:.2f} MB, Using {num_processes} processes\")\n",
    "\n",
    "            with mp.get_context(\"spawn\").Pool(processes=num_processes) as pool:\n",
    "                results = []\n",
    "                for _ in range(min(num_processes, len(ls))):\n",
    "                    image_path = ls.pop(0)\n",
    "                    results.append(pool.apply_async(extract_prune_tiles,\n",
    "                                                    args=((len(ls), image_path), \"/home/output\", 512, 2.0, 0.7, None, 0.2)))\n",
    "\n",
    "                for result in results:\n",
    "                    result.get()\n",
    "                    pbar.update(1)\n",
    "\n",
    "\n",
    "if __name__ == \"__main__\":\n",
    "    mp.set_start_method(\"spawn\", force=True)\n",
    "    main()"
   ]
  },
  {
   "cell_type": "code",
   "execution_count": null,
   "id": "9f6d2b40-667b-472c-afda-417250b77e39",
   "metadata": {},
   "outputs": [],
   "source": []
  }
 ],
 "metadata": {
  "kernelspec": {
   "display_name": "Python 3 (ipykernel)",
   "language": "python",
   "name": "python3"
  },
  "language_info": {
   "codemirror_mode": {
    "name": "ipython",
    "version": 3
   },
   "file_extension": ".py",
   "mimetype": "text/x-python",
   "name": "python",
   "nbconvert_exporter": "python",
   "pygments_lexer": "ipython3",
   "version": "3.11.10"
  }
 },
 "nbformat": 4,
 "nbformat_minor": 5
}
